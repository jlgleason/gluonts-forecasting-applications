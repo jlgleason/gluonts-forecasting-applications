{
 "cells": [
  {
   "cell_type": "code",
   "execution_count": null,
   "metadata": {},
   "outputs": [],
   "source": [
    "**Overall Structure**\n",
    "1. Data exploration (lots of graphs of rate of growth exist, maps showing spread across world, maybe something with similarity\n",
    "2. Data augmentation (cluster countries by healthcare system data?, population data)\n",
    "3. DeepAR model (how does it work, what are its assumptions, what are its problems)\n",
    "4. Fit estimates, make predictions\n",
    "5. Interrogate importance of covariates (how SHAP values??)"
   ]
  },
  {
   "cell_type": "code",
   "execution_count": null,
   "metadata": {},
   "outputs": [],
   "source": [
    "import pandas as pd\n",
    "url = \"https://raw.githubusercontent.com/numenta/NAB/master/data/realTweets/Twitter_volume_AMZN.csv\"\n",
    "df = pd.read_csv(url, header=0, index_col=0)\n",
    "\n",
    "import matplotlib.pyplot as plt\n",
    "df[:100].plot(linewidth=2)\n",
    "plt.grid(which='both')\n",
    "plt.show()"
   ]
  },
  {
   "cell_type": "code",
   "execution_count": null,
   "metadata": {},
   "outputs": [],
   "source": [
    "from gluonts.dataset.common import ListDataset\n",
    "training_data = ListDataset(\n",
    "    [{\"start\": df.index[0], \"target\": df.value[:\"2015-04-05 00:00:00\"]}],\n",
    "    freq = \"5min\"\n",
    ")"
   ]
  },
  {
   "cell_type": "code",
   "execution_count": null,
   "metadata": {
    "scrolled": true
   },
   "outputs": [],
   "source": [
    "from gluonts.model.deepar import DeepAREstimator\n",
    "from gluonts.trainer import Trainer\n",
    "\n",
    "estimator = DeepAREstimator(freq=\"5min\", prediction_length=12, trainer=Trainer(epochs=10))\n",
    "predictor = estimator.train(training_data=training_data)"
   ]
  },
  {
   "cell_type": "code",
   "execution_count": null,
   "metadata": {},
   "outputs": [],
   "source": [
    "test_data = ListDataset(\n",
    "    [{\"start\": df.index[0], \"target\": df.value[:\"2015-04-15 00:00:00\"]}],\n",
    "    freq = \"5min\"\n",
    ")\n",
    "\n",
    "from gluonts.dataset.util import to_pandas\n",
    "\n",
    "for test_entry, forecast in zip(test_data, predictor.predict(test_data)):\n",
    "    to_pandas(test_entry)[-60:].plot(linewidth=2)\n",
    "    forecast.plot(color='g', prediction_intervals=[50.0, 90.0])\n",
    "plt.grid(which='both')"
   ]
  },
  {
   "cell_type": "code",
   "execution_count": 2,
   "metadata": {},
   "outputs": [],
   "source": [
    "import pandas as pd\n",
    "train = pd.read_csv(\"/root/data/train.csv\")"
   ]
  },
  {
   "cell_type": "code",
   "execution_count": null,
   "metadata": {},
   "outputs": [],
   "source": []
  }
 ],
 "metadata": {
  "kernelspec": {
   "display_name": "Python 3",
   "language": "python",
   "name": "python3"
  },
  "language_info": {
   "codemirror_mode": {
    "name": "ipython",
    "version": 3
   },
   "file_extension": ".py",
   "mimetype": "text/x-python",
   "name": "python",
   "nbconvert_exporter": "python",
   "pygments_lexer": "ipython3",
   "version": "3.7.6"
  }
 },
 "nbformat": 4,
 "nbformat_minor": 4
}
